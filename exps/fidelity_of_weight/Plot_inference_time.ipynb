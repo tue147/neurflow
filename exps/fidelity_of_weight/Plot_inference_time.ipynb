{
 "cells": [
  {
   "cell_type": "code",
   "execution_count": null,
   "metadata": {},
   "outputs": [],
   "source": [
    "import numpy as np\n",
    "import matplotlib.pyplot as plt\n",
    "import matplotlib.cm as cm\n",
    "\n",
    "\n",
    "data = {\n",
    "    \"Integrated \\n Gradients\": 3.1,\n",
    "    \"LRP\": 0.5,\n",
    "    \"Guided \\n Backpropagation\": 0.2,\n",
    "    \"Saliency\": 0.2,\n",
    "    \"Knockoff\": 8.0,\n",
    "    \"SmoothGrad\": 28.7,\n",
    "    \"GradientShap\": 33.4,\n",
    "}\n",
    "\n",
    "abbreviated_methods = {\n",
    "    \"Integrated Gradients\": \"IG\",\n",
    "    \"LRP\": \"LRP\",\n",
    "    \"Guided Backpropagation\": \"GBP\",\n",
    "    \"Saliency\": \"Sal\",\n",
    "    \"Knockoff\": \"KO\",\n",
    "    \"SmoothGrad\": \"SG\",\n",
    "    \"Gradient Shap\": \"GS\",\n",
    "}\n",
    "\n",
    "abbreviated_labels = list(abbreviated_methods.values())\n",
    "methods = list(data.keys())\n",
    "scores = list(data.values())\n",
    "\n",
    "# Color map using 'viridis_r'\n",
    "cmap = cm.get_cmap('viridis_r', len(scores))\n",
    "colors = cmap(np.linspace(0, 1, len(scores)))\n",
    "\n",
    "plt.figure(figsize=(12, 7))\n",
    "bars = plt.barh(abbreviated_labels, scores, color=colors, label=abbreviated_labels)\n",
    "\n",
    "plt.xlabel(\"Time (s)\", fontsize=26)\n",
    "plt.title(\"Run time comparison\", fontsize=30)\n",
    "plt.xticks(np.arange(0, max(scores) + 0.5, 5), fontsize=22)\n",
    "plt.yticks(fontsize=22)\n",
    "\n",
    "for bar in bars:\n",
    "    width = bar.get_width()\n",
    "    plt.text(width + 0.1, bar.get_y() + bar.get_height() / 2, f'{width:.1f}', \n",
    "             va='center', fontsize=22)\n",
    "    \n",
    "plt.legend([f\"{abbr} - {name}\" for name, abbr in abbreviated_methods.items()], fontsize=22, loc='lower right')\n",
    "plt.xlim(0, 36)\n",
    "\n",
    "plt.tight_layout()\n",
    "plt.show()\n"
   ]
  }
 ],
 "metadata": {
  "kernelspec": {
   "display_name": "neurflow",
   "language": "python",
   "name": "python3"
  },
  "language_info": {
   "name": "python",
   "version": "3.11.11"
  }
 },
 "nbformat": 4,
 "nbformat_minor": 2
}
